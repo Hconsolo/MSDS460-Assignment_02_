{
 "cells": [
  {
   "cell_type": "code",
   "execution_count": 1,
   "metadata": {},
   "outputs": [],
   "source": [
    "import pandas as pd\n",
    "\n",
    "# load the necessary Pulp function\n",
    "from pulp import LpProblem, LpMinimize, LpVariable, lpSum, LpStatus, value"
   ]
  },
  {
   "cell_type": "code",
   "execution_count": 13,
   "metadata": {},
   "outputs": [
    {
     "name": "stdout",
     "output_type": "stream",
     "text": [
      "|    | taskID   | task                         | predecessorTaskIDs     |   bestCaseHours | expectedHours   |   worstCaseHours | projectManager   | frontendDeveloper   | backendDeveloper   | dataScientist   | dataEngineer   |   Rate_Hour |   Quantity_People |   Total_Costs |   PM_Costs |   Dev_Team_Costs |   Maximum Reduction |   Crashing |   Crash_Cost_Hour |\n",
      "|---:|:---------|:-----------------------------|:-----------------------|----------------:|:----------------|-----------------:|:-----------------|:--------------------|:-------------------|:----------------|:---------------|------------:|------------------:|--------------:|-----------:|-----------------:|--------------------:|-----------:|------------------:|\n",
      "|  0 | A        | Describe product             |                        |           20    | 20              |             20   | 1                |                     |                    |                 |                |          60 |                 1 |          1200 |       1200 |                0 |                5    |       1800 |               360 |\n",
      "|  1 | B        | Develop marketing strategy   |                        |           40    | 40              |             40   | 1                |                     |                    |                 |                |          60 |                 1 |          2400 |       2400 |                0 |               10    |       3600 |               360 |\n",
      "|  2 | C        | Design brochure              | A                      |           20    | 20              |             20   | 1                |                     |                    |                 |                |          60 |                 1 |          1200 |       1200 |                0 |                5    |       1800 |               360 |\n",
      "|  3 | D        | Develop product  prototype   |                        |            0    |                 |              0   |                  |                     |                    |                 |                |          60 |                 0 |             0 |          0 |                0 |                0    |          0 |                 0 |\n",
      "|  4 | D1       | Requirements analysis        | A                      |           40    | 40              |             40   | 1                | 1                   | 1                  | 1               | 1              |          60 |                 5 |         12000 |       2400 |             9600 |               10    |       3600 |               360 |\n",
      "|  5 | D2       | Software design              | D1                     |           40    | 40              |             40   | 1                | 1                   | 1                  | 1               | 1              |          60 |                 5 |         12000 |       2400 |             9600 |               10    |       3600 |               360 |\n",
      "|  6 | D3       | System design                | D1                     |           40    | 40              |             40   | 1                |                     | 1                  |                 | 1              |          60 |                 3 |          7200 |       2400 |             4800 |               10    |       3600 |               360 |\n",
      "|  7 | D4.0     | Begin Code                   | D2, D3                 |            0    | 0               |              0   |                  |                     |                    |                 |                |          60 |                 0 |             0 |          0 |                0 |                0    |          0 |                 0 |\n",
      "|  8 | D4.1     | Coding - Front-end dev       | D4.0                   |          112.5  | 150             |            300   |                  | 1                   |                    |                 |                |          60 |                 1 |          9000 |          0 |             9000 |               37.5  |      27000 |               720 |\n",
      "|  9 | D4.2     | Coding - Back-end dev        | D4.0                   |          180    | 180             |            180   |                  |                     | 1                  |                 |                |          60 |                 1 |         10800 |          0 |            10800 |               45    |      16200 |               360 |\n",
      "| 10 | D4.3     | Coding - Data Scientist      | D4.0                   |           60    | 80              |            120   |                  |                     |                    | 1               |                |          60 |                 1 |          4800 |          0 |             4800 |               20    |      10800 |               540 |\n",
      "| 11 | D4.4     | Coding - Data Engineer       | D4.0                   |          160    | 160             |            160   |                  |                     |                    |                 | 1              |          60 |                 1 |          9600 |          0 |             9600 |               40    |      14400 |               360 |\n",
      "| 12 | D4.5     | End Code                     | D4.1, D4.2, D4.3, D4.4 |            0    | 0               |              0   |                  |                     |                    |                 |                |          60 |                 0 |             0 |          0 |                0 |                0    |          0 |                 0 |\n",
      "| 13 | D5       | Write documentation          | D4.5                   |           20    | 20              |             20   | 1                | 1                   | 1                  | 1               | 1              |          60 |                 5 |          6000 |       1200 |             4800 |                5    |       1800 |               360 |\n",
      "| 14 | D6       | Unit testing                 | D5                     |           30    | 40              |             80   |                  | 1                   | 1                  |                 | 1              |          60 |                 3 |          7200 |          0 |             7200 |               10    |       7200 |               720 |\n",
      "| 15 | D7       | System testing               | D6                     |           30    | 40              |             80   | 1                | 1                   | 1                  |                 | 1              |          60 |                 4 |          9600 |       2400 |             7200 |               10    |       7200 |               720 |\n",
      "| 16 | D8       | Package deliverables         | D5, D7                 |           20    | 20              |             30   | 1                | 1                   | 1                  | 1               | 1              |          60 |                 5 |          6000 |       1200 |             4800 |                5    |       2700 |               540 |\n",
      "| 17 | E        | Survey potential market      | B, C                   |           22.5  | 30              |             45   | 1                |                     |                    |                 |                |          60 |                 1 |          1800 |       1800 |                0 |                7.5  |       4050 |               540 |\n",
      "| 18 | F        | Develop pricing plan         | D8, E                  |           11.25 | 15              |             22.5 | 1                |                     |                    |                 |                |          60 |                 1 |           900 |        900 |                0 |                3.75 |       2025 |               540 |\n",
      "| 19 | G        | Develop implementation  plan | A, D8                  |           22.5  | 30              |             45   | 1                |                     |                    |                 |                |          60 |                 1 |          1800 |       1800 |                0 |                7.5  |       4050 |               540 |\n",
      "| 20 | H        | Write client proposal        | F, G                   |           11.25 | 15              |             22.5 | 1                |                     |                    |                 |                |          60 |                 1 |           900 |        900 |                0 |                3.75 |       2025 |               540 |\n"
     ]
    }
   ],
   "source": [
    "\n",
    "# read data from excel file 'project_plan.xlsx'\n",
    "# file is stored at '002. Input Tables'\n",
    "\n",
    "input_file_path = '002. Input Tables/project_plan.xlsx'\n",
    "\n",
    "\n",
    "\n",
    "# read data from excel file 'project_plan_simple.xlsx'\n",
    "# if NaN then replace by None,\n",
    "# if column is string then remove trailing characters\n",
    "def read_data(file_path):\n",
    "    df = pd.read_excel(file_path, keep_default_na=False)\n",
    "    return df\n",
    "\n",
    "# read data from excel file 'project_plan_simple.xlsx'\n",
    "df = read_data(input_file_path)\n",
    "\n",
    "# display data as markdown table\n",
    "print(df.to_markdown())\n",
    "\n",
    "# export markdown table to '003. Output Files/table_01_project_plan.md'\n",
    "output_file_path = '003. Output Files/table_01_project_plan.md'\n",
    "with open(output_file_path, 'w') as f:\n",
    "    f.write(df.to_markdown())"
   ]
  },
  {
   "cell_type": "code",
   "execution_count": null,
   "metadata": {},
   "outputs": [],
   "source": [
    "# more trailing characters from all columns in the dataframe\n",
    "# apply lambda if x is string, then remove trailing characters\n",
    "def remove_trailing_characters(df):\n",
    "    df = df.apply(lambda x: x.str.strip() if x.dtype == \"object\" else x)\n",
    "    return df\n",
    "\n",
    "# remove trailing characters from all columns in the dataframe\n",
    "df = remove_trailing_characters(df)\n",
    "\n",
    "# remove ',' from predecessorTaskIDs and add element to a list\n",
    "# removving trailing spaces\n",
    "# using apply() + lambda\n",
    "df['predecessorTaskIDs'] = df['predecessorTaskIDs'].apply(lambda x: x.split(',')).tolist()\n",
    "\n",
    "# remove trailing spaces\n",
    "df['predecessorTaskIDs'] = df['predecessorTaskIDs'].apply(lambda x: [i.strip() for i in x]).tolist()"
   ]
  },
  {
   "cell_type": "code",
   "execution_count": 62,
   "metadata": {},
   "outputs": [],
   "source": [
    "# create dictionary with data\n",
    "# taskID and task\n",
    "taskID_task = dict(zip(df['taskID'], df['task']))\n",
    "activities_list = taskID_task.keys()\n",
    "\n",
    "# create a dictionary with data\n",
    "# taskID and expected_duration\n",
    "taskID_expectedHours = dict(zip(df['taskID'], df['expectedHours']))\n",
    "activities = taskID_expectedHours\n",
    "\n",
    "# create a list to the element of the column predecessorTaskIDs\n",
    "predecessorTaskIDs = df['predecessorTaskIDs'].tolist()\n",
    "\n",
    "# create a dictionary with data\n",
    "# taskID and predecessorTaskIDs\n",
    "taskID_predecessorTaskIDs = dict(zip(df['taskID'], df['predecessorTaskIDs']))\n",
    "precedences = taskID_predecessorTaskIDs"
   ]
  },
  {
   "cell_type": "code",
   "execution_count": 63,
   "metadata": {},
   "outputs": [
    {
     "name": "stdout",
     "output_type": "stream",
     "text": [
      "dict_keys(['A', 'B', 'C', 'D1', 'D2', 'D3', 'D4', 'D5', 'D6', 'D7', 'D8', 'E', 'F', 'G', 'H'])\n",
      "{'A': 20, 'B': 40, 'C': 20, 'D1': 40, 'D2': 30, 'D3': 30, 'D4': 150, 'D5': 20, 'D6': 40, 'D7': 40, 'D8': 20, 'E': 30, 'F': 15, 'G': 30, 'H': 15}\n",
      "{'A': [''], 'B': [''], 'C': ['A'], 'D1': ['A'], 'D2': ['D1'], 'D3': ['D1'], 'D4': ['D2', 'D3'], 'D5': ['D4'], 'D6': ['D4'], 'D7': ['D6'], 'D8': ['D5', 'D7'], 'E': ['B', 'C'], 'F': ['D8', 'E'], 'G': ['A', 'D8'], 'H': ['F', 'G']}\n"
     ]
    }
   ],
   "source": [
    "# print activities_list,activities,precedences\n",
    "print(activities_list)\n",
    "print(activities)\n",
    "print(precedences)\n"
   ]
  },
  {
   "cell_type": "code",
   "execution_count": 64,
   "metadata": {},
   "outputs": [
    {
     "name": "stdout",
     "output_type": "stream",
     "text": [
      "{'A': [], 'B': [], 'C': ['A'], 'D1': ['A'], 'D2': ['D1'], 'D3': ['D1'], 'D4': ['D2', 'D3'], 'D5': ['D4'], 'D6': ['D4'], 'D7': ['D6'], 'D8': ['D5', 'D7'], 'E': ['B', 'C'], 'F': ['D8', 'E'], 'G': ['A', 'D8'], 'H': ['F', 'G']}\n"
     ]
    }
   ],
   "source": [
    "# for all the values in the precendences dictionary\n",
    "# that are '' replace by empty list\n",
    "for key, value in precedences.items():\n",
    "    if value == ['']:\n",
    "        precedences[key] = []\n",
    "\n",
    "# print precedences\n",
    "print(precedences)"
   ]
  },
  {
   "cell_type": "code",
   "execution_count": 65,
   "metadata": {},
   "outputs": [],
   "source": [
    "# Critical Path Analysis \n",
    "\n",
    "# Problem description from Williams (2013, pages 94-98)\n",
    "# Williams, H. Paul. 2013. Model Building in Mathematical Programming (fifth edition). New York: Wiley. [ISBN-13: 978-1-118-44333-0]\n",
    "\n",
    "# Python PuLP solution prepared by Thomas W. Miller\n",
    "# Revised April 20, 2023\n",
    "# Implemented using activities dictionary with derived start_times and end_times\n",
    "# rather than time decision variables as in Williams (2013)\n",
    "\n",
    "from pulp import *\n",
    "\n",
    "# Create a dictionary of the activities and their durations\n",
    "#activities = {'DigFoundations':4, 'LayFoundations':2, 'ObtainBricks':7, 'ObtainTiles':12, 'Walls':10, 'Roofing':5, 'Wiring':3, 'Painting':4}\n",
    "\n",
    "# Create a list of the activities\n",
    "#activities_list = list(activities.keys())\n",
    "\n",
    "# Create a dictionary of the activity precedences\n",
    "#precedences = {'DigFoundations': [], 'ObtainBricks': [], 'ObtainTiles': [], 'LayFoundations': ['DigFoundations'],  'Walls': ['DigFoundations','ObtainBricks'], 'Wiring': ['Walls'], 'Roofing': ['ObtainTiles','Walls'], 'Painting': ['Wiring','Roofing']}\n",
    "\n"
   ]
  },
  {
   "cell_type": "code",
   "execution_count": 66,
   "metadata": {},
   "outputs": [],
   "source": [
    "# Create the LP problem\n",
    "prob = LpProblem(\"Critical_Path\", LpMinimize)\n",
    "\n",
    "# Create the LP variables\n",
    "start_times = {activity: LpVariable(f\"start_{activity}\", 0, None) for activity in activities_list}\n",
    "end_times = {activity: LpVariable(f\"end_{activity}\", 0, None) for activity in activities_list}"
   ]
  },
  {
   "cell_type": "code",
   "execution_count": 67,
   "metadata": {},
   "outputs": [],
   "source": [
    "value(start_times['A'])"
   ]
  },
  {
   "cell_type": "code",
   "execution_count": 68,
   "metadata": {},
   "outputs": [
    {
     "name": "stdout",
     "output_type": "stream",
     "text": [
      "Critical Path time:\n",
      "A starts at time 0\n",
      "B starts at time 0\n",
      "H ends at 385.0 hours in duration\n",
      "\n",
      "Solution variable values:\n",
      "end_A = 20.0\n",
      "end_B = 40.0\n",
      "end_C = 40.0\n",
      "end_D1 = 60.0\n",
      "end_D2 = 90.0\n",
      "end_D3 = 90.0\n",
      "end_D4 = 240.0\n",
      "end_D5 = 260.0\n",
      "end_D6 = 280.0\n",
      "end_D7 = 320.0\n",
      "end_D8 = 340.0\n",
      "end_E = 70.0\n",
      "end_F = 355.0\n",
      "end_G = 370.0\n",
      "end_H = 385.0\n",
      "start_A = 0.0\n",
      "start_B = 0.0\n",
      "start_C = 20.0\n",
      "start_D1 = 20.0\n",
      "start_D2 = 60.0\n",
      "start_D3 = 60.0\n",
      "start_D4 = 90.0\n",
      "start_D5 = 240.0\n",
      "start_D6 = 240.0\n",
      "start_D7 = 280.0\n",
      "start_D8 = 320.0\n",
      "start_E = 40.0\n",
      "start_F = 340.0\n",
      "start_G = 340.0\n",
      "start_H = 370.0\n"
     ]
    }
   ],
   "source": [
    "# Create the LP variables\n",
    "start_times = {activity: LpVariable(f\"start_{activity}\", 0, None) for activity in activities_list}\n",
    "end_times = {activity: LpVariable(f\"end_{activity}\", 0, None) for activity in activities_list}\n",
    "\n",
    "# Set the objective function\n",
    "prob += lpSum([end_times[activity] for activity in activities_list]), \"minimize_end_times\"\n",
    "\n",
    "# Add the constraints\n",
    "for activity in activities_list:\n",
    "    prob += end_times[activity] == start_times[activity] + activities[activity], f\"{activity}_duration\"\n",
    "    for predecessor in precedences[activity]:\n",
    "        if predecessor != []:\n",
    "            prob += start_times[activity] >= end_times[predecessor], f\"{activity}_predecessor_{predecessor}\"\n",
    "\n",
    "# Solve the LP problem\n",
    "status = prob.solve()\n",
    "\n",
    "# Print the results\n",
    "print(\"Critical Path time:\")\n",
    "for activity in activities_list:\n",
    "    if (start_times[activity].value()) == 0:\n",
    "        print(f\"{activity} starts at time 0\")\n",
    "    if (end_times[activity].value()) == max([end_times[activity].value() for activity in activities_list]):\n",
    "        print(f\"{activity} ends at {value(end_times[activity])} hours in duration\")\n",
    "\n",
    "# Print solution\n",
    "print(\"\\nSolution variable values:\")\n",
    "for var in prob.variables():\n",
    "    if var.name != \"_dummy\":\n",
    "        print(var.name, \"=\", var.varValue)\n"
   ]
  },
  {
   "cell_type": "code",
   "execution_count": 69,
   "metadata": {},
   "outputs": [
    {
     "name": "stdout",
     "output_type": "stream",
     "text": [
      "| name              |   shadow price |   slack |\n",
      "|:------------------|---------------:|--------:|\n",
      "| A_duration        |             13 |      -0 |\n",
      "| B_duration        |              2 |      -0 |\n",
      "| C_duration        |              1 |      -0 |\n",
      "| C_predecessor_A   |              1 |      -0 |\n",
      "| D1_duration       |             11 |      -0 |\n",
      "| D1_predecessor_A  |             11 |      -0 |\n",
      "| D2_duration       |              1 |      -0 |\n",
      "| D2_predecessor_D1 |              1 |      -0 |\n",
      "| D3_duration       |              9 |      -0 |\n",
      "| D3_predecessor_D1 |              9 |      -0 |\n",
      "| D4_duration       |              8 |      -0 |\n",
      "| D4_predecessor_D2 |              0 |      -0 |\n",
      "| D4_predecessor_D3 |              8 |      -0 |\n",
      "| D5_duration       |              1 |      -0 |\n",
      "| D5_predecessor_D4 |              1 |      -0 |\n",
      "| D6_duration       |              6 |      -0 |\n",
      "| D6_predecessor_D4 |              6 |      -0 |\n",
      "| D7_duration       |              5 |      -0 |\n",
      "| D7_predecessor_D6 |              5 |      -0 |\n",
      "| D8_duration       |              4 |      -0 |\n",
      "| D8_predecessor_D5 |              0 |     -60 |\n",
      "| D8_predecessor_D7 |              4 |      -0 |\n",
      "| E_duration        |              1 |      -0 |\n",
      "| E_predecessor_B   |              1 |      -0 |\n",
      "| E_predecessor_C   |              0 |      -0 |\n",
      "| F_duration        |              1 |      -0 |\n",
      "| F_predecessor_D8  |              1 |      -0 |\n",
      "| F_predecessor_E   |              0 |    -270 |\n",
      "| G_duration        |              2 |      -0 |\n",
      "| G_predecessor_A   |              0 |    -320 |\n",
      "| G_predecessor_D8  |              2 |      -0 |\n",
      "| H_duration        |              1 |      -0 |\n",
      "| H_predecessor_F   |              0 |     -15 |\n",
      "| H_predecessor_G   |              1 |      -0 |\n",
      "| name     |   reduced cost |\n",
      "|:---------|---------------:|\n",
      "| end_A    |              0 |\n",
      "| end_B    |              0 |\n",
      "| end_C    |              0 |\n",
      "| end_D1   |              0 |\n",
      "| end_D2   |              0 |\n",
      "| end_D3   |              0 |\n",
      "| end_D4   |              0 |\n",
      "| end_D5   |              0 |\n",
      "| end_D6   |              0 |\n",
      "| end_D7   |              0 |\n",
      "| end_D8   |              0 |\n",
      "| end_E    |              0 |\n",
      "| end_F    |              0 |\n",
      "| end_G    |              0 |\n",
      "| end_H    |              0 |\n",
      "| start_A  |             13 |\n",
      "| start_B  |              2 |\n",
      "| start_C  |              0 |\n",
      "| start_D1 |              0 |\n",
      "| start_D2 |              0 |\n",
      "| start_D3 |              0 |\n",
      "| start_D4 |              0 |\n",
      "| start_D5 |              0 |\n",
      "| start_D6 |              0 |\n",
      "| start_D7 |              0 |\n",
      "| start_D8 |              0 |\n",
      "| start_E  |              0 |\n",
      "| start_F  |              0 |\n",
      "| start_G  |              0 |\n",
      "| start_H  |              0 |\n"
     ]
    }
   ],
   "source": [
    "import pandas as pd\n",
    "\n",
    "# display the shadow prices, and slack of the constraints\n",
    "o = [(name, c.pi, c.slack) for name, c in prob.constraints.items()]\n",
    "\n",
    "df_1 = pd.DataFrame(o, columns=['name', 'shadow price', 'slack'])\n",
    "\n",
    "# print df without the index and to markdown\n",
    "print(df_1.to_markdown(index=False))\n",
    "\n",
    "# display the reduced costs of the variables\n",
    "o = [(v.name, v.dj) for v in prob.variables()]\n",
    "\n",
    "df_2 = pd.DataFrame(o, columns=['name', 'reduced cost'])\n",
    "\n",
    "# print df_2 without the index and to markdown\n",
    "print(df_2.to_markdown(index=False))\n"
   ]
  },
  {
   "cell_type": "code",
   "execution_count": null,
   "metadata": {},
   "outputs": [],
   "source": []
  },
  {
   "cell_type": "code",
   "execution_count": 70,
   "metadata": {},
   "outputs": [
    {
     "ename": "PulpSolverError",
     "evalue": "PuLP: cannot execute glpsol.exe",
     "output_type": "error",
     "traceback": [
      "\u001b[1;31m---------------------------------------------------------------------------\u001b[0m",
      "\u001b[1;31mPulpSolverError\u001b[0m                           Traceback (most recent call last)",
      "Cell \u001b[1;32mIn[70], line 3\u001b[0m\n\u001b[0;32m      1\u001b[0m \u001b[38;5;66;03m# Use GLPK for sensitivity analysis\u001b[39;00m\n\u001b[0;32m      2\u001b[0m prob\u001b[38;5;241m.\u001b[39mwriteLP(\u001b[38;5;124m\"\u001b[39m\u001b[38;5;124mcritical_path.lp\u001b[39m\u001b[38;5;124m\"\u001b[39m)\n\u001b[1;32m----> 3\u001b[0m \u001b[43mprob\u001b[49m\u001b[38;5;241;43m.\u001b[39;49m\u001b[43msolve\u001b[49m\u001b[43m(\u001b[49m\u001b[43mGLPK\u001b[49m\u001b[43m(\u001b[49m\u001b[43moptions\u001b[49m\u001b[38;5;241;43m=\u001b[39;49m\u001b[43m[\u001b[49m\u001b[38;5;124;43m'\u001b[39;49m\u001b[38;5;124;43m--ranges critical_path.sen\u001b[39;49m\u001b[38;5;124;43m'\u001b[39;49m\u001b[43m]\u001b[49m\u001b[43m)\u001b[49m\u001b[43m)\u001b[49m\n\u001b[0;32m      4\u001b[0m \u001b[38;5;28mprint\u001b[39m (\u001b[38;5;124m\"\u001b[39m\u001b[38;5;124mStatus:\u001b[39m\u001b[38;5;124m\"\u001b[39m, LpStatus[prob\u001b[38;5;241m.\u001b[39mstatus])\n",
      "File \u001b[1;32m~\\AppData\\Roaming\\Python\\Python39\\site-packages\\pulp\\pulp.py:1883\u001b[0m, in \u001b[0;36mLpProblem.solve\u001b[1;34m(self, solver, **kwargs)\u001b[0m\n\u001b[0;32m   1881\u001b[0m \u001b[38;5;66;03m# time it\u001b[39;00m\n\u001b[0;32m   1882\u001b[0m \u001b[38;5;28mself\u001b[39m\u001b[38;5;241m.\u001b[39mstartClock()\n\u001b[1;32m-> 1883\u001b[0m status \u001b[38;5;241m=\u001b[39m solver\u001b[38;5;241m.\u001b[39mactualSolve(\u001b[38;5;28mself\u001b[39m, \u001b[38;5;241m*\u001b[39m\u001b[38;5;241m*\u001b[39mkwargs)\n\u001b[0;32m   1884\u001b[0m \u001b[38;5;28mself\u001b[39m\u001b[38;5;241m.\u001b[39mstopClock()\n\u001b[0;32m   1885\u001b[0m \u001b[38;5;28mself\u001b[39m\u001b[38;5;241m.\u001b[39mrestoreObjective(wasNone, dummyVar)\n",
      "File \u001b[1;32m~\\AppData\\Roaming\\Python\\Python39\\site-packages\\pulp\\apis\\glpk_api.py:75\u001b[0m, in \u001b[0;36mGLPK_CMD.actualSolve\u001b[1;34m(self, lp)\u001b[0m\n\u001b[0;32m     73\u001b[0m \u001b[38;5;250m\u001b[39m\u001b[38;5;124;03m\"\"\"Solve a well formulated lp problem\"\"\"\u001b[39;00m\n\u001b[0;32m     74\u001b[0m \u001b[38;5;28;01mif\u001b[39;00m \u001b[38;5;129;01mnot\u001b[39;00m \u001b[38;5;28mself\u001b[39m\u001b[38;5;241m.\u001b[39mexecutable(\u001b[38;5;28mself\u001b[39m\u001b[38;5;241m.\u001b[39mpath):\n\u001b[1;32m---> 75\u001b[0m     \u001b[38;5;28;01mraise\u001b[39;00m PulpSolverError(\u001b[38;5;124m\"\u001b[39m\u001b[38;5;124mPuLP: cannot execute \u001b[39m\u001b[38;5;124m\"\u001b[39m \u001b[38;5;241m+\u001b[39m \u001b[38;5;28mself\u001b[39m\u001b[38;5;241m.\u001b[39mpath)\n\u001b[0;32m     76\u001b[0m tmpLp, tmpSol \u001b[38;5;241m=\u001b[39m \u001b[38;5;28mself\u001b[39m\u001b[38;5;241m.\u001b[39mcreate_tmp_files(lp\u001b[38;5;241m.\u001b[39mname, \u001b[38;5;124m\"\u001b[39m\u001b[38;5;124mlp\u001b[39m\u001b[38;5;124m\"\u001b[39m, \u001b[38;5;124m\"\u001b[39m\u001b[38;5;124msol\u001b[39m\u001b[38;5;124m\"\u001b[39m)\n\u001b[0;32m     77\u001b[0m lp\u001b[38;5;241m.\u001b[39mwriteLP(tmpLp, writeSOS\u001b[38;5;241m=\u001b[39m\u001b[38;5;241m0\u001b[39m)\n",
      "\u001b[1;31mPulpSolverError\u001b[0m: PuLP: cannot execute glpsol.exe"
     ]
    }
   ],
   "source": [
    "# Use GLPK for sensitivity analysis\n",
    "prob.writeLP(\"critical_path.lp\")\n",
    "prob.solve(GLPK(options=['--ranges critical_path.sen']))\n",
    "print (\"Status:\", LpStatus[prob.status])\n",
    "\n"
   ]
  }
 ],
 "metadata": {
  "kernelspec": {
   "display_name": "Python 3",
   "language": "python",
   "name": "python3"
  },
  "language_info": {
   "codemirror_mode": {
    "name": "ipython",
    "version": 3
   },
   "file_extension": ".py",
   "mimetype": "text/x-python",
   "name": "python",
   "nbconvert_exporter": "python",
   "pygments_lexer": "ipython3",
   "version": "3.9.7"
  }
 },
 "nbformat": 4,
 "nbformat_minor": 2
}
