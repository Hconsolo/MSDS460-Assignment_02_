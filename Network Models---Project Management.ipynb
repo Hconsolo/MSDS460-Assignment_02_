{
 "cells": [
  {
   "cell_type": "code",
   "execution_count": 284,
   "metadata": {},
   "outputs": [],
   "source": [
    "import pandas as pd\n",
    "\n",
    "# load the necessary Pulp functions\n",
    "from pulp import LpProblem, LpMinimize, LpVariable, lpSum"
   ]
  },
  {
   "cell_type": "code",
   "execution_count": 285,
   "metadata": {},
   "outputs": [
    {
     "name": "stdout",
     "output_type": "stream",
     "text": [
      "|    | taskID   | task                         | predecessorTaskIDs     |   bestCaseHours |   expectedHours |   worstCaseHours |   projectManager |   frontendDeveloper |   backendDeveloper |   dataScientist |   dataEngineer |   Rate_Hour |   Quantity_People |   Total_Costs |   PM_Costs |   Dev_Team_Costs |   Maximum Reduction |   Crashing |   Crash_Cost_Hour |\n",
      "|---:|:---------|:-----------------------------|:-----------------------|----------------:|----------------:|-----------------:|-----------------:|--------------------:|-------------------:|----------------:|---------------:|------------:|------------------:|--------------:|-----------:|-----------------:|--------------------:|-----------:|------------------:|\n",
      "|  0 | A        | Describe product             |                        |           20    |              20 |             20   |                1 |                   0 |                  0 |               0 |              0 |          60 |                 1 |          1200 |       1200 |                0 |                5    |       1800 |               360 |\n",
      "|  1 | B        | Develop marketing strategy   |                        |           40    |              40 |             40   |                1 |                   0 |                  0 |               0 |              0 |          60 |                 1 |          2400 |       2400 |                0 |               10    |       3600 |               360 |\n",
      "|  2 | C        | Design brochure              | A                      |           20    |              20 |             20   |                1 |                   0 |                  0 |               0 |              0 |          60 |                 1 |          1200 |       1200 |                0 |                5    |       1800 |               360 |\n",
      "|  3 | D        | Develop product  prototype   | A                      |            0    |               0 |              0   |                0 |                   0 |                  0 |               0 |              0 |          60 |                 0 |             0 |          0 |                0 |                0    |          0 |                 0 |\n",
      "|  4 | D1       | Requirements analysis        | D                      |           40    |              40 |             40   |                1 |                   1 |                  1 |               1 |              1 |          60 |                 5 |         12000 |       2400 |             9600 |               10    |       3600 |               360 |\n",
      "|  5 | D2       | Software design              | D1                     |           40    |              40 |             40   |                1 |                   1 |                  1 |               1 |              1 |          60 |                 5 |         12000 |       2400 |             9600 |               10    |       3600 |               360 |\n",
      "|  6 | D3       | System design                | D1                     |           40    |              40 |             40   |                1 |                   0 |                  1 |               0 |              1 |          60 |                 3 |          7200 |       2400 |             4800 |               10    |       3600 |               360 |\n",
      "|  7 | D4.0     | Begin Code                   | D2, D3                 |            0    |               0 |              0   |                0 |                   0 |                  0 |               0 |              0 |          60 |                 0 |             0 |          0 |                0 |                0    |          0 |                 0 |\n",
      "|  8 | D4.1     | Coding - Front-end dev       | D4.0                   |          112.5  |             150 |            300   |                0 |                   1 |                  0 |               0 |              0 |          60 |                 1 |          9000 |          0 |             9000 |               37.5  |      27000 |               720 |\n",
      "|  9 | D4.2     | Coding - Back-end dev        | D4.0                   |          180    |             180 |            180   |                0 |                   0 |                  1 |               0 |              0 |          60 |                 1 |         10800 |          0 |            10800 |               45    |      16200 |               360 |\n",
      "| 10 | D4.3     | Coding - Data Scientist      | D4.0                   |           60    |              80 |            120   |                0 |                   0 |                  0 |               1 |              0 |          60 |                 1 |          4800 |          0 |             4800 |               20    |      10800 |               540 |\n",
      "| 11 | D4.4     | Coding - Data Engineer       | D4.0                   |          160    |             160 |            160   |                0 |                   0 |                  0 |               0 |              1 |          60 |                 1 |          9600 |          0 |             9600 |               40    |      14400 |               360 |\n",
      "| 12 | D4.5     | End Code                     | D4.1, D4.2, D4.3, D4.4 |            0    |               0 |              0   |                0 |                   0 |                  0 |               0 |              0 |          60 |                 0 |             0 |          0 |                0 |                0    |          0 |                 0 |\n",
      "| 13 | D5       | Write documentation          | D4.5                   |           20    |              20 |             20   |                1 |                   1 |                  1 |               1 |              1 |          60 |                 5 |          6000 |       1200 |             4800 |                5    |       1800 |               360 |\n",
      "| 14 | D6       | Unit testing                 | D5                     |           30    |              40 |             80   |                0 |                   1 |                  1 |               0 |              1 |          60 |                 3 |          7200 |          0 |             7200 |               10    |       7200 |               720 |\n",
      "| 15 | D7       | System testing               | D6                     |           30    |              40 |             80   |                1 |                   1 |                  1 |               0 |              1 |          60 |                 4 |          9600 |       2400 |             7200 |               10    |       7200 |               720 |\n",
      "| 16 | D8       | Package deliverables         | D5, D7                 |           20    |              20 |             30   |                1 |                   1 |                  1 |               1 |              1 |          60 |                 5 |          6000 |       1200 |             4800 |                5    |       2700 |               540 |\n",
      "| 17 | E        | Survey potential market      | B, C                   |           22.5  |              30 |             45   |                1 |                   0 |                  0 |               0 |              0 |          60 |                 1 |          1800 |       1800 |                0 |                7.5  |       4050 |               540 |\n",
      "| 18 | F        | Develop pricing plan         | D8, E                  |           11.25 |              15 |             22.5 |                1 |                   0 |                  0 |               0 |              0 |          60 |                 1 |           900 |        900 |                0 |                3.75 |       2025 |               540 |\n",
      "| 19 | G        | Develop implementation  plan | A, D8                  |           22.5  |              30 |             45   |                1 |                   0 |                  0 |               0 |              0 |          60 |                 1 |          1800 |       1800 |                0 |                7.5  |       4050 |               540 |\n",
      "| 20 | H        | Write client proposal        | F, G                   |           11.25 |              15 |             22.5 |                1 |                   0 |                  0 |               0 |              0 |          60 |                 1 |           900 |        900 |                0 |                3.75 |       2025 |               540 |\n"
     ]
    }
   ],
   "source": [
    "\n",
    "# read data from excel file 'project_plan.xlsx'\n",
    "# file is stored at '002. Input Tables'\n",
    "\n",
    "input_file_path = '002. Input Tables/project_plan.xlsx'\n",
    "\n",
    "# read data from excel file 'project_plan_simple.xlsx'\n",
    "# if NaN then replace by None,\n",
    "# if column is string then remove trailing characters\n",
    "def read_data(file_path):\n",
    "    df = pd.read_excel(file_path, keep_default_na=False)\n",
    "    return df\n",
    "\n",
    "# read data from excel file 'project_plan_simple.xlsx'\n",
    "df = read_data(input_file_path)\n",
    "\n",
    "# display data as markdown table\n",
    "print(df.to_markdown())\n",
    "\n",
    "# export markdown table to '003. Output Files/table_01_project_plan.md'\n",
    "output_file_path = '003. Output Files/table_01_project_plan.md'\n",
    "with open(output_file_path, 'w') as f:\n",
    "    f.write(df.to_markdown())"
   ]
  },
  {
   "cell_type": "code",
   "execution_count": 286,
   "metadata": {},
   "outputs": [
    {
     "name": "stdout",
     "output_type": "stream",
     "text": [
      "Index(['Design_ID', 'Design_Description', 'Details', 'projectManager',\n",
      "       'frontendDeveloper', 'backendDeveloper', 'dataScientist',\n",
      "       'dataEngineer'],\n",
      "      dtype='object')\n",
      "| Role              |   Effort | Design_ID                                                       |\n",
      "|:------------------|---------:|:----------------------------------------------------------------|\n",
      "| backendDeveloper  |      180 | F01, F02, F04, F05, F06, F07, F08, F10, F11, F12, F13, T05, T06 |\n",
      "| dataEngineer      |      160 | F11, F12, T01, T02, T03, T04, T05, T06                          |\n",
      "| frontendDeveloper |      150 | F01, F02, F04, F05, F06, F07, F08, F10, F13                     |\n",
      "| dataScientist     |       80 | F11, F12                                                        |\n",
      "\n",
      "\n",
      "| Design_ID   | Design_Description               | Details                                                                                                                                                         |\n",
      "|:------------|:---------------------------------|:----------------------------------------------------------------------------------------------------------------------------------------------------------------|\n",
      "| F01         | Desktop and mobile version       | Users can access the app on desktop or mobile. Build an attractive and easy-to-use website for both.                                                            |\n",
      "| F02         | Menu browsing                    | Users can view the restaurant's menu and make selections per restaurant.                                                                                        |\n",
      "| F04         | Reservations                     | Users can reserve a table at the restaurant or order for pickup.                                                                                                |\n",
      "| F05         | Loyalty program                  | Users can earn points or rewards for repeat business.                                                                                                           |\n",
      "| F06         | Push notifications               | Restaurants can send notifications to users, such as special promotions or discounts, using recommendation system.                                              |\n",
      "| F07         | Reviews and ratings              | Users can rate their dining experience and read reviews from other customers.                                                                                   |\n",
      "| F08         | Social sharing                   | Users can share their dining experience on social media platforms.                                                                                              |\n",
      "| F10         | Integration with other platforms | Users can order food from the restaurant app through platforms like Google Maps and Yelp.                                                                       |\n",
      "| F11         | ML recommendation                | ML recommendation tool personalized suggestion engine that uses Yelp, order history, GPS, and deals data.                                                       |\n",
      "| F12         | ML sentiment analysis            | Our app provides sentiment analysis to restaurants based on Yelp reviews, highlighting their main strengths and weaknesses.                                     |\n",
      "| F13         | Marketing content                | Our app lets restaurant owners post marketing content and maintain a blog. It also stores users' order history and preferences.                                 |\n",
      "| T01         | Size of restaurants DB           | The app must store info for 100-1000 Marlborough, MA restaurants.                                                                                               |\n",
      "| T02         | Scalability                      | The application should be scalable enough to handle potential increases in the size of operations.                                                              |\n",
      "| T03         | Size of users DB                 | Users should be 1,000 or 0.06% of the population in Marlborough and its neighboring towns: Berlin, Hudson, Sudbury, Framingham, Southborough, and Northborough. |\n",
      "| T04         | ELT external data - Yelp         | The project will use Yelp reviews of restaurants as external data, which will be updated monthly. The Yelp reviews will be accessed daily via GraphQL API.      |\n",
      "| T05         | Site Infrastructure              | Hosted site on a major cloud platform, run batch jobs, and ML algorithms periodically.                                                                          |\n",
      "| T06         | Monitoring system                | Store activity log, and trigger alerts when events happen                                                                                                       |\n"
     ]
    }
   ],
   "source": [
    "# import file 002. Input Tables\\design_effort_details.xlsx\n",
    "input_file_path = '002. Input Tables/design_effort_details.xlsx'\n",
    "df = read_data(input_file_path)\n",
    "\n",
    "# print column names\n",
    "print(df.columns)\n",
    "\n",
    "# Keep columns 'Design_ID', 'projectManager', 'frontendDeveloper', 'backendDeveloper', 'dataScientist', 'dataEngineer'\n",
    "# in a df_temp dataframe\n",
    "df_temp = df[['Design_ID', 'projectManager', 'frontendDeveloper', 'backendDeveloper', 'dataScientist', 'dataEngineer']]\n",
    "\n",
    "# pivot the df_temp dataframe to get the desired format\n",
    "# the columns 'projectManager', 'frontendDeveloper', 'backendDeveloper', 'dataScientist', 'dataEngineer'\n",
    "# should be combined in one called 'Role' and the values should be in a column called 'Effort'\n",
    "df_temp = df_temp.melt(id_vars='Design_ID', var_name='Role', value_name='Effort')\n",
    "\n",
    "# if effort is 0 then remove the row\n",
    "df_temp = df_temp[df_temp['Effort'] != 0]\n",
    "\n",
    "# aggregate the Design_ID as a list by Role\n",
    "# keep the effort column\n",
    "df_temp = df_temp.groupby('Role').agg({ 'Effort': 'sum', 'Design_ID': list}).reset_index()\n",
    "\n",
    "# remove the list brackets from the Design_ID column\n",
    "df_temp['Design_ID'] = df_temp['Design_ID'].apply(lambda x: ', '.join([str(i) for i in x]))\n",
    "\n",
    "# sort by Effort in descending order\n",
    "df_temp = df_temp.sort_values('Effort', ascending=False)\n",
    "\n",
    "# display data as markdown table\n",
    "print(df_temp.to_markdown(index=False))\n",
    "\n",
    "# export markdown table to '003. Output Files/table_02_design_effort_summary_role.md'\n",
    "# using pandas to_markdown function\n",
    "output_file_path = '003. Output Files/table_02_design_effort_summary_role.md'\n",
    "with open(output_file_path, 'w') as f:\n",
    "    f.write(df_temp.to_markdown(index=False))\n",
    "\n",
    "print('\\n')\n",
    "\n",
    "\n",
    "# now using dataframe df keep the columns\n",
    "# 'Design_ID', 'Design_Description', 'Details'\n",
    "# display data as markdown table\n",
    "# do not show the index\n",
    "df_temp = df[['Design_ID', 'Design_Description', 'Details']]\n",
    "print(df_temp.to_markdown(index=False))\n",
    "\n",
    "# export markdown table to '003. Output Files/table_05_design_effort_details.md'\n",
    "output_file_path = '003. Output Files/table_05_design_effort_details.md'\n",
    "\n",
    "# export the dataframe to markdown file\n",
    "with open(output_file_path, 'w') as f:\n",
    "    f.write(df_temp.to_markdown(index=False))\n"
   ]
  },
  {
   "cell_type": "code",
   "execution_count": 287,
   "metadata": {},
   "outputs": [],
   "source": [
    "# load the table 'project_plan.xlsx' from '002. Input Tables'\n",
    "input_file_path = '002. Input Tables/project_plan.xlsx'\n",
    "df = read_data(input_file_path)\n",
    "\n",
    "# more trailing characters from all columns in the dataframe\n",
    "# apply lambda if x is string, then remove trailing characters\n",
    "def remove_trailing_characters(df):\n",
    "    df = df.apply(lambda x: x.str.strip() if x.dtype == \"object\" else x)\n",
    "    return df\n",
    "\n",
    "# remove trailing characters from all columns in the dataframe\n",
    "df = remove_trailing_characters(df)\n",
    "\n",
    "# remove ',' from predecessorTaskIDs and add element to a list\n",
    "# removving trailing spaces\n",
    "# using apply() + lambda\n",
    "df['predecessorTaskIDs'] = df['predecessorTaskIDs'].apply(lambda x: x.split(',')).tolist()\n",
    "\n",
    "# remove trailing spaces\n",
    "df['predecessorTaskIDs'] = df['predecessorTaskIDs'].apply(lambda x: [i.strip() for i in x]).tolist()"
   ]
  },
  {
   "cell_type": "code",
   "execution_count": 297,
   "metadata": {},
   "outputs": [
    {
     "name": "stdout",
     "output_type": "stream",
     "text": [
      "dict_keys(['A', 'B', 'C', 'D', 'D1', 'D2', 'D3', 'D4.0', 'D4.1', 'D4.2', 'D4.3', 'D4.4', 'D4.5', 'D5', 'D6', 'D7', 'D8', 'E', 'F', 'G', 'H'])\n",
      "{'A': 20, 'B': 40, 'C': 20, 'D': 0, 'D1': 40, 'D2': 40, 'D3': 40, 'D4.0': 0, 'D4.1': 150, 'D4.2': 180, 'D4.3': 80, 'D4.4': 160, 'D4.5': 0, 'D5': 20, 'D6': 40, 'D7': 40, 'D8': 20, 'E': 30, 'F': 15, 'G': 30, 'H': 15}\n",
      "{'A': [''], 'B': [''], 'C': ['A'], 'D': ['A'], 'D1': ['D'], 'D2': ['D1'], 'D3': ['D1'], 'D4.0': ['D2', 'D3'], 'D4.1': ['D4.0'], 'D4.2': ['D4.0'], 'D4.3': ['D4.0'], 'D4.4': ['D4.0'], 'D4.5': ['D4.1', 'D4.2', 'D4.3', 'D4.4'], 'D5': ['D4.5'], 'D6': ['D5'], 'D7': ['D6'], 'D8': ['D5', 'D7'], 'E': ['B', 'C'], 'F': ['D8', 'E'], 'G': ['A', 'D8'], 'H': ['F', 'G']}\n",
      "{'A': [], 'B': [], 'C': ['A'], 'D': ['A'], 'D1': ['D'], 'D2': ['D1'], 'D3': ['D1'], 'D4.0': ['D2', 'D3'], 'D4.1': ['D4.0'], 'D4.2': ['D4.0'], 'D4.3': ['D4.0'], 'D4.4': ['D4.0'], 'D4.5': ['D4.1', 'D4.2', 'D4.3', 'D4.4'], 'D5': ['D4.5'], 'D6': ['D5'], 'D7': ['D6'], 'D8': ['D5', 'D7'], 'E': ['B', 'C'], 'F': ['D8', 'E'], 'G': ['A', 'D8'], 'H': ['F', 'G']}\n"
     ]
    }
   ],
   "source": [
    "# create dictionary with data\n",
    "# taskID and task\n",
    "taskID_task = dict(zip(df['taskID'], df['task']))\n",
    "activities_list = taskID_task.keys()\n",
    "\n",
    "# create a dictionary with data\n",
    "# taskID and expected_duration\n",
    "taskID_expectedHours = dict(zip(df['taskID'], df['expectedHours']))\n",
    "activities = taskID_expectedHours\n",
    "\n",
    "# create a list to the element of the column predecessorTaskIDs\n",
    "predecessorTaskIDs = df['predecessorTaskIDs'].tolist()\n",
    "\n",
    "# create a dictionary with data\n",
    "# taskID and predecessorTaskIDs\n",
    "taskID_predecessorTaskIDs = dict(zip(df['taskID'], df['predecessorTaskIDs']))\n",
    "precedences = taskID_predecessorTaskIDs\n",
    "\n",
    "# print activities_list,activities,precedences\n",
    "print(activities_list)\n",
    "print(activities)\n",
    "print(precedences)\n",
    "\n",
    "# for all the values in the precendences dictionary\n",
    "# that are '' replace by empty list\n",
    "for key, value in precedences.items():\n",
    "    if value == ['']:\n",
    "        precedences[key] = []\n",
    "\n",
    "# print precedences\n",
    "print(precedences)"
   ]
  },
  {
   "cell_type": "code",
   "execution_count": 291,
   "metadata": {},
   "outputs": [],
   "source": [
    "# Critical Path Analysis based on Thomas W. Miller solution\n",
    "# Implemented using activities dictionary with derived start_times and end_times\n",
    "# for the expectedHours of each activity"
   ]
  },
  {
   "cell_type": "code",
   "execution_count": 292,
   "metadata": {},
   "outputs": [
    {
     "name": "stdout",
     "output_type": "stream",
     "text": [
      "Critical Path time:\n",
      "A starts at time 0\n",
      "B starts at time 0\n",
      "H ends at 445.0 hours in duration\n",
      "Or, H ends at 55.625 work weeks in duration\n",
      "| Activity   |   Start |   End |\n",
      "|:-----------|--------:|------:|\n",
      "| A          |       0 |    20 |\n",
      "| B          |       0 |    40 |\n",
      "| C          |      20 |    40 |\n",
      "| D          |      20 |    20 |\n",
      "| D1         |      20 |    60 |\n",
      "| D2         |      60 |   100 |\n",
      "| D3         |      60 |   100 |\n",
      "| D4.0       |     100 |   100 |\n",
      "| D4.1       |     100 |   250 |\n",
      "| D4.2       |     100 |   280 |\n",
      "| D4.3       |     100 |   180 |\n",
      "| D4.4       |     100 |   260 |\n",
      "| D4.5       |     280 |   280 |\n",
      "| D5         |     280 |   300 |\n",
      "| D6         |     300 |   340 |\n",
      "| D7         |     340 |   380 |\n",
      "| D8         |     380 |   400 |\n",
      "| E          |      40 |    70 |\n",
      "| F          |     400 |   415 |\n",
      "| G          |     400 |   430 |\n",
      "| H          |     430 |   445 |\n"
     ]
    }
   ],
   "source": [
    "# Create the LP problem\n",
    "prob = LpProblem(\"Critical_Path\", LpMinimize)\n",
    "\n",
    "# Create the LP variables\n",
    "start_times = {activity: LpVariable(f\"start_{activity}\", 0, None) for activity in activities_list}\n",
    "end_times = {activity: LpVariable(f\"end_{activity}\", 0, None) for activity in activities_list}\n",
    "\n",
    "# Create the LP variables\n",
    "start_times = {activity: LpVariable(f\"start_{activity}\", 0, None) for activity in activities_list}\n",
    "end_times = {activity: LpVariable(f\"end_{activity}\", 0, None) for activity in activities_list}\n",
    "\n",
    "# Set the objective function\n",
    "prob += lpSum([end_times[activity] for activity in activities_list]), \"minimize_end_times\"\n",
    "\n",
    "# Add the constraints\n",
    "for activity in activities_list:\n",
    "    prob += end_times[activity] == start_times[activity] + activities[activity], f\"{activity}_duration\"\n",
    "    for predecessor in precedences[activity]:\n",
    "        if predecessor != []:\n",
    "            prob += start_times[activity] >= end_times[predecessor], f\"{activity}_predecessor_{predecessor}\"\n",
    "\n",
    "# Solve the LP problem\n",
    "status = prob.solve()\n",
    "\n",
    "# Print the results\n",
    "print(\"Critical Path time:\")\n",
    "for activity in activities_list:\n",
    "    if (start_times[activity].value()) == 0:\n",
    "        print(f\"{activity} starts at time 0\")\n",
    "    if (end_times[activity].value()) == max([end_times[activity].value() for activity in activities_list]):\n",
    "        print(f\"{activity} ends at {end_times[activity].value()} hours in duration\")\n",
    "        print(f\"Or, {activity} ends at {end_times[activity].value()/8} work weeks in duration\")\n",
    "\n",
    "# store first the results in a list\n",
    "results = []\n",
    "# iterate over the activities_list\n",
    "for activity in activities_list:\n",
    "    # store the results in a list\n",
    "    results.append([activity, start_times[activity].value(), end_times[activity].value()])\n",
    "\n",
    "# add the results to the data frame\n",
    "df_results = pd.DataFrame(results, columns=['Activity', 'Start', 'End'])\n",
    "\n",
    "# display data as markdown table\n",
    "print(df_results.to_markdown(index=False))\n",
    "\n",
    "# export output/listing as plain text files\n",
    "# problem description\n",
    "output_file_path = '003. Output Files/problem_description.txt'\n"
   ]
  },
  {
   "cell_type": "code",
   "execution_count": 293,
   "metadata": {},
   "outputs": [],
   "source": [
    "# print problem description\n",
    "with open(output_file_path, 'w') as f:\n",
    "    f.write(\"Critical Path Analysis based on Thomas W. Miller solution\\n\")\n",
    "    f.write(\"Implemented using activities dictionary with derived start_times and end_times\\n\")\n",
    "    f.write(\"for the expectedHours of each activity\\n\")\n",
    "    f.write(\"\\n\")\n",
    "    f.write(\"Create the LP problem\\n\")\n",
    "    f.write(\"Create the LP variables\\n\")\n",
    "    f.write(\"Set the objective function\\n\")\n",
    "    f.write(\"Add the constraints\\n\")\n",
    "    f.write(\"Solve the LP problem\\n\")\n",
    "    f.write(\"Print the results\\n\")\n",
    "    f.write(\"\\n\")\n",
    "    f.write(\"Critical Path time:\\n\")\n",
    "    for activity in activities_list:\n",
    "        if (start_times[activity].value()) == 0:\n",
    "            f.write(f\"{activity} starts at time 0\\n\")\n",
    "        if (end_times[activity].value()) == max([end_times[activity].value() for activity in activities_list]):\n",
    "            f.write(f\"{activity} ends at {end_times[activity].value()} hours in duration\\n\")\n",
    "            f.write(f\"Or, {activity} ends at {end_times[activity].value()/8} work days duration\\n\")\n",
    "    f.write(\"\\n\")\n",
    "    f.write(\"Problem full formulation\\n\")\n",
    "    f.write(str(prob))"
   ]
  },
  {
   "cell_type": "code",
   "execution_count": 294,
   "metadata": {},
   "outputs": [
    {
     "name": "stdout",
     "output_type": "stream",
     "text": [
      "| Activity   |   Start |    End | Ref_Date   |   Duration | Start_Date          | End_Date            |\n",
      "|:-----------|--------:|-------:|:-----------|-----------:|:--------------------|:--------------------|\n",
      "| A          |    0    |  2.5   | 04.22.2023 |      2.5   | 2023-04-22 00:00:00 | 2023-04-24 12:00:00 |\n",
      "| B          |    0    |  5     | 04.22.2023 |      5     | 2023-04-22 00:00:00 | 2023-04-27 00:00:00 |\n",
      "| C          |    2.5  |  5     | 04.22.2023 |      2.5   | 2023-04-24 12:00:00 | 2023-04-27 00:00:00 |\n",
      "| D          |    2.5  |  2.5   | 04.22.2023 |      0     | 2023-04-24 12:00:00 | 2023-04-24 12:00:00 |\n",
      "| D1         |    2.5  |  7.5   | 04.22.2023 |      5     | 2023-04-24 12:00:00 | 2023-04-29 12:00:00 |\n",
      "| D2         |    7.5  | 12.5   | 04.22.2023 |      5     | 2023-04-29 12:00:00 | 2023-05-04 12:00:00 |\n",
      "| D3         |    7.5  | 12.5   | 04.22.2023 |      5     | 2023-04-29 12:00:00 | 2023-05-04 12:00:00 |\n",
      "| D4.0       |   12.5  | 12.5   | 04.22.2023 |      0     | 2023-05-04 12:00:00 | 2023-05-04 12:00:00 |\n",
      "| D4.1       |   12.5  | 31.25  | 04.22.2023 |     18.75  | 2023-05-04 12:00:00 | 2023-05-23 06:00:00 |\n",
      "| D4.2       |   12.5  | 35     | 04.22.2023 |     22.5   | 2023-05-04 12:00:00 | 2023-05-27 00:00:00 |\n",
      "| D4.3       |   12.5  | 22.5   | 04.22.2023 |     10     | 2023-05-04 12:00:00 | 2023-05-14 12:00:00 |\n",
      "| D4.4       |   12.5  | 32.5   | 04.22.2023 |     20     | 2023-05-04 12:00:00 | 2023-05-24 12:00:00 |\n",
      "| D4.5       |   35    | 35     | 04.22.2023 |      0     | 2023-05-27 00:00:00 | 2023-05-27 00:00:00 |\n",
      "| D5         |   35    | 37.5   | 04.22.2023 |      2.5   | 2023-05-27 00:00:00 | 2023-05-29 12:00:00 |\n",
      "| D6         |   37.5  | 42.5   | 04.22.2023 |      5     | 2023-05-29 12:00:00 | 2023-06-03 12:00:00 |\n",
      "| D7         |   42.5  | 47.5   | 04.22.2023 |      5     | 2023-06-03 12:00:00 | 2023-06-08 12:00:00 |\n",
      "| D8         |   47.5  | 50     | 04.22.2023 |      2.5   | 2023-06-08 12:00:00 | 2023-06-11 00:00:00 |\n",
      "| E          |    5    |  8.75  | 04.22.2023 |      3.75  | 2023-04-27 00:00:00 | 2023-04-30 18:00:00 |\n",
      "| F          |   50    | 51.875 | 04.22.2023 |      1.875 | 2023-06-11 00:00:00 | 2023-06-12 21:00:00 |\n",
      "| G          |   50    | 53.75  | 04.22.2023 |      3.75  | 2023-06-11 00:00:00 | 2023-06-14 18:00:00 |\n",
      "| H          |   53.75 | 55.625 | 04.22.2023 |      1.875 | 2023-06-14 18:00:00 | 2023-06-16 15:00:00 |\n"
     ]
    }
   ],
   "source": [
    "# add a new column to the data frame\n",
    "# Ref_Date = '04.20.2023' in the format 'mm.dd.yyyy'\n",
    "# as date\n",
    "df_results['Ref_Date'] = '04.22.2023'\n",
    "\n",
    "# convert the start and end from hours to work days considering 8 hours per day\n",
    "df_results['Start'] = df_results['Start'] / 8\n",
    "df_results['End'] = df_results['End'] / 8\n",
    "\n",
    "# calculate the duration in work days between the start and end\n",
    "df_results['Duration'] = df_results['End'] - df_results['Start']\n",
    "\n",
    "# calculate the start_date and end_date considering the Ref_Date\n",
    "# end_date should contain also the weekends\n",
    "df_results['Start_Date'] = pd.to_datetime(df_results['Ref_Date']) \\\n",
    "    + pd.to_timedelta(df_results['Start'], unit='D')\n",
    "\n",
    "df_results['End_Date'] = pd.to_datetime(df_results['Ref_Date']) \\\n",
    "    + pd.to_timedelta(df_results['Start'], unit='D')\\\n",
    "    + pd.to_timedelta(df_results['Duration'], unit='D')\n",
    "\n",
    "# display data as markdown table\n",
    "print(df_results.to_markdown(index=False))\n"
   ]
  },
  {
   "cell_type": "code",
   "execution_count": 295,
   "metadata": {},
   "outputs": [
    {
     "name": "stdout",
     "output_type": "stream",
     "text": [
      "| taskID   | task                         | Role                       |\n",
      "|:---------|:-----------------------------|:---------------------------|\n",
      "| A        | Describe product             | PM                         |\n",
      "| B        | Develop marketing strategy   | PM                         |\n",
      "| C        | Design brochure              | PM                         |\n",
      "| D1       | Requirements analysis        | PM, FE_Dev, BE_Dev, DS, DE |\n",
      "| D2       | Software design              | PM, FE_Dev, BE_Dev, DS, DE |\n",
      "| D3       | System design                | PM, BE_Dev, DE             |\n",
      "| D4.1     | Coding - Front-end dev       | FE_Dev                     |\n",
      "| D4.2     | Coding - Back-end dev        | BE_Dev                     |\n",
      "| D4.3     | Coding - Data Scientist      | DS                         |\n",
      "| D4.4     | Coding - Data Engineer       | DE                         |\n",
      "| D5       | Write documentation          | PM, FE_Dev, BE_Dev, DS, DE |\n",
      "| D6       | Unit testing                 | FE_Dev, BE_Dev, DE         |\n",
      "| D7       | System testing               | PM, FE_Dev, BE_Dev, DE     |\n",
      "| D8       | Package deliverables         | PM, FE_Dev, BE_Dev, DS, DE |\n",
      "| E        | Survey potential market      | PM                         |\n",
      "| F        | Develop pricing plan         | PM                         |\n",
      "| G        | Develop implementation  plan | PM                         |\n",
      "| H        | Write client proposal        | PM                         |\n"
     ]
    }
   ],
   "source": [
    "# lets create a tag for the roles resposible for each task\n",
    "# using the df dataframe\n",
    "# keep the columns 'taskID', 'task', 'projectManager', 'frontendDeveloper', 'backendDeveloper', 'dataScientist', 'dataEngineer'\n",
    "df_temp = df[['taskID', 'task', 'projectManager', 'frontendDeveloper', 'backendDeveloper', 'dataScientist', 'dataEngineer']]\n",
    "\n",
    "# pivot the df_temp dataframe to get the desired format\n",
    "# the columns 'projectManager', 'frontendDeveloper', 'backendDeveloper', 'dataScientist', 'dataEngineer'\n",
    "# should be combined in one called 'Role' and the values should be in a column called 'Effort'\n",
    "df_temp = df_temp.melt(id_vars=['taskID', 'task'], var_name='Role', value_name='Name')\n",
    "\n",
    "# remove the rows where the Name is 0\n",
    "df_temp = df_temp[df_temp['Name'] != 0]\n",
    "\n",
    "# aggreagte taskID and task as a list by Role\n",
    "# do not keep Name\n",
    "df_temp = df_temp.groupby(['taskID', 'task']).agg({'Role': list}).reset_index()\n",
    "\n",
    "# each member of the Role list should be simplified using the following dictionary\n",
    "# projectManager: PM\n",
    "# frontendDeveloper: FE_Dev\n",
    "# backendDeveloper: BE_Dev\n",
    "# dataScientist: DS\n",
    "# dataEngineer: DE\n",
    "\n",
    "# create a dictionary with the mapping\n",
    "mapping = {\n",
    "    'projectManager': 'PM',\n",
    "    'frontendDeveloper': 'FE_Dev',\n",
    "    'backendDeveloper': 'BE_Dev',\n",
    "    'dataScientist': 'DS',\n",
    "    'dataEngineer': 'DE'\n",
    "}\n",
    "\n",
    "# apply the mapping to the Role column\n",
    "df_temp['Role'] = df_temp['Role'].apply(lambda x: [mapping[i] for i in x])\n",
    "\n",
    "# remove the list brackets from the Role column\n",
    "df_temp['Role'] = df_temp['Role'].apply(lambda x: ', '.join([str(i) for i in x]))\n",
    "\n",
    "# display data as markdown table\n",
    "print(df_temp.to_markdown(index=False))\n",
    "\n",
    "# call df_temp as tags\n",
    "tags = df_temp"
   ]
  },
  {
   "cell_type": "code",
   "execution_count": 296,
   "metadata": {},
   "outputs": [
    {
     "data": {
      "application/vnd.plotly.v1+json": {
       "config": {
        "plotlyServerURL": "https://plot.ly"
       },
       "data": [
        {
         "alignmentgroup": "True",
         "base": [
          "2023-04-22T00:00:00",
          "2023-04-22T00:00:00",
          "2023-04-24T12:00:00",
          "2023-04-27T00:00:00",
          "2023-06-11T00:00:00",
          "2023-06-11T00:00:00",
          "2023-06-14T18:00:00"
         ],
         "customdata": [
          [
           "Describe product",
           0,
           2.5,
           2.5
          ],
          [
           "Develop marketing strategy",
           0,
           5,
           5
          ],
          [
           "Design brochure",
           2.5,
           5,
           2.5
          ],
          [
           "Survey potential market",
           5,
           8.75,
           3.75
          ],
          [
           "Develop pricing plan",
           50,
           51.875,
           1.875
          ],
          [
           "Develop implementation  plan",
           50,
           53.75,
           3.75
          ],
          [
           "Write client proposal",
           53.75,
           55.625,
           1.875
          ]
         ],
         "hovertemplate": "<b>%{hovertext}</b><br><br>Role=PM<br>Start_Date=%{base}<br>End_Date=%{x}<br>Task=%{y}<br>task=%{customdata[0]}<br>Start=%{customdata[1]}<br>End=%{customdata[2]}<br>Duration=%{customdata[3]}<extra></extra>",
         "hovertext": [
          "A",
          "B",
          "C",
          "E",
          "F",
          "G",
          "H"
         ],
         "legendgroup": "PM",
         "marker": {
          "color": "#636efa",
          "pattern": {
           "shape": ""
          }
         },
         "name": "PM",
         "offsetgroup": "PM",
         "orientation": "h",
         "showlegend": true,
         "textposition": "auto",
         "type": "bar",
         "x": [
          216000000,
          432000000,
          216000000,
          324000000,
          162000000,
          324000000,
          162000000
         ],
         "xaxis": "x",
         "y": [
          "A",
          "B",
          "C",
          "E",
          "F",
          "G",
          "H"
         ],
         "yaxis": "y"
        },
        {
         "alignmentgroup": "True",
         "base": [
          "2023-04-24T12:00:00",
          "2023-04-29T12:00:00",
          "2023-05-27T00:00:00",
          "2023-06-08T12:00:00"
         ],
         "customdata": [
          [
           "Requirements analysis",
           2.5,
           7.5,
           5
          ],
          [
           "Software design",
           7.5,
           12.5,
           5
          ],
          [
           "Write documentation",
           35,
           37.5,
           2.5
          ],
          [
           "Package deliverables",
           47.5,
           50,
           2.5
          ]
         ],
         "hovertemplate": "<b>%{hovertext}</b><br><br>Role=PM, FE_Dev, BE_Dev, DS, DE<br>Start_Date=%{base}<br>End_Date=%{x}<br>Task=%{y}<br>task=%{customdata[0]}<br>Start=%{customdata[1]}<br>End=%{customdata[2]}<br>Duration=%{customdata[3]}<extra></extra>",
         "hovertext": [
          "D1",
          "D2",
          "D5",
          "D8"
         ],
         "legendgroup": "PM, FE_Dev, BE_Dev, DS, DE",
         "marker": {
          "color": "#00cc96",
          "pattern": {
           "shape": ""
          }
         },
         "name": "PM, FE_Dev, BE_Dev, DS, DE",
         "offsetgroup": "PM, FE_Dev, BE_Dev, DS, DE",
         "orientation": "h",
         "showlegend": true,
         "textposition": "auto",
         "type": "bar",
         "x": [
          432000000,
          432000000,
          216000000,
          216000000
         ],
         "xaxis": "x",
         "y": [
          "D1",
          "D2",
          "D5",
          "D8"
         ],
         "yaxis": "y"
        },
        {
         "alignmentgroup": "True",
         "base": [
          "2023-04-29T12:00:00"
         ],
         "customdata": [
          [
           "System design",
           7.5,
           12.5,
           5
          ]
         ],
         "hovertemplate": "<b>%{hovertext}</b><br><br>Role=PM, BE_Dev, DE<br>Start_Date=%{base}<br>End_Date=%{x}<br>Task=%{y}<br>task=%{customdata[0]}<br>Start=%{customdata[1]}<br>End=%{customdata[2]}<br>Duration=%{customdata[3]}<extra></extra>",
         "hovertext": [
          "D3"
         ],
         "legendgroup": "PM, BE_Dev, DE",
         "marker": {
          "color": "#ab63fa",
          "pattern": {
           "shape": ""
          }
         },
         "name": "PM, BE_Dev, DE",
         "offsetgroup": "PM, BE_Dev, DE",
         "orientation": "h",
         "showlegend": true,
         "textposition": "auto",
         "type": "bar",
         "x": [
          432000000
         ],
         "xaxis": "x",
         "y": [
          "D3"
         ],
         "yaxis": "y"
        },
        {
         "alignmentgroup": "True",
         "base": [
          "2023-05-04T12:00:00"
         ],
         "customdata": [
          [
           "Coding - Front-end dev",
           12.5,
           31.25,
           18.75
          ]
         ],
         "hovertemplate": "<b>%{hovertext}</b><br><br>Role=FE_Dev<br>Start_Date=%{base}<br>End_Date=%{x}<br>Task=%{y}<br>task=%{customdata[0]}<br>Start=%{customdata[1]}<br>End=%{customdata[2]}<br>Duration=%{customdata[3]}<extra></extra>",
         "hovertext": [
          "D4.1"
         ],
         "legendgroup": "FE_Dev",
         "marker": {
          "color": "#FFA15A",
          "pattern": {
           "shape": ""
          }
         },
         "name": "FE_Dev",
         "offsetgroup": "FE_Dev",
         "orientation": "h",
         "showlegend": true,
         "textposition": "auto",
         "type": "bar",
         "x": [
          1620000000
         ],
         "xaxis": "x",
         "y": [
          "D4.1"
         ],
         "yaxis": "y"
        },
        {
         "alignmentgroup": "True",
         "base": [
          "2023-05-04T12:00:00"
         ],
         "customdata": [
          [
           "Coding - Back-end dev",
           12.5,
           35,
           22.5
          ]
         ],
         "hovertemplate": "<b>%{hovertext}</b><br><br>Role=BE_Dev<br>Start_Date=%{base}<br>End_Date=%{x}<br>Task=%{y}<br>task=%{customdata[0]}<br>Start=%{customdata[1]}<br>End=%{customdata[2]}<br>Duration=%{customdata[3]}<extra></extra>",
         "hovertext": [
          "D4.2"
         ],
         "legendgroup": "BE_Dev",
         "marker": {
          "color": "#19d3f3",
          "pattern": {
           "shape": ""
          }
         },
         "name": "BE_Dev",
         "offsetgroup": "BE_Dev",
         "orientation": "h",
         "showlegend": true,
         "textposition": "auto",
         "type": "bar",
         "x": [
          1944000000
         ],
         "xaxis": "x",
         "y": [
          "D4.2"
         ],
         "yaxis": "y"
        },
        {
         "alignmentgroup": "True",
         "base": [
          "2023-05-04T12:00:00"
         ],
         "customdata": [
          [
           "Coding - Data Scientist",
           12.5,
           22.5,
           10
          ]
         ],
         "hovertemplate": "<b>%{hovertext}</b><br><br>Role=DS<br>Start_Date=%{base}<br>End_Date=%{x}<br>Task=%{y}<br>task=%{customdata[0]}<br>Start=%{customdata[1]}<br>End=%{customdata[2]}<br>Duration=%{customdata[3]}<extra></extra>",
         "hovertext": [
          "D4.3"
         ],
         "legendgroup": "DS",
         "marker": {
          "color": "#FF6692",
          "pattern": {
           "shape": ""
          }
         },
         "name": "DS",
         "offsetgroup": "DS",
         "orientation": "h",
         "showlegend": true,
         "textposition": "auto",
         "type": "bar",
         "x": [
          864000000
         ],
         "xaxis": "x",
         "y": [
          "D4.3"
         ],
         "yaxis": "y"
        },
        {
         "alignmentgroup": "True",
         "base": [
          "2023-05-04T12:00:00"
         ],
         "customdata": [
          [
           "Coding - Data Engineer",
           12.5,
           32.5,
           20
          ]
         ],
         "hovertemplate": "<b>%{hovertext}</b><br><br>Role=DE<br>Start_Date=%{base}<br>End_Date=%{x}<br>Task=%{y}<br>task=%{customdata[0]}<br>Start=%{customdata[1]}<br>End=%{customdata[2]}<br>Duration=%{customdata[3]}<extra></extra>",
         "hovertext": [
          "D4.4"
         ],
         "legendgroup": "DE",
         "marker": {
          "color": "#B6E880",
          "pattern": {
           "shape": ""
          }
         },
         "name": "DE",
         "offsetgroup": "DE",
         "orientation": "h",
         "showlegend": true,
         "textposition": "auto",
         "type": "bar",
         "x": [
          1728000000
         ],
         "xaxis": "x",
         "y": [
          "D4.4"
         ],
         "yaxis": "y"
        },
        {
         "alignmentgroup": "True",
         "base": [
          "2023-05-29T12:00:00"
         ],
         "customdata": [
          [
           "Unit testing",
           37.5,
           42.5,
           5
          ]
         ],
         "hovertemplate": "<b>%{hovertext}</b><br><br>Role=FE_Dev, BE_Dev, DE<br>Start_Date=%{base}<br>End_Date=%{x}<br>Task=%{y}<br>task=%{customdata[0]}<br>Start=%{customdata[1]}<br>End=%{customdata[2]}<br>Duration=%{customdata[3]}<extra></extra>",
         "hovertext": [
          "D6"
         ],
         "legendgroup": "FE_Dev, BE_Dev, DE",
         "marker": {
          "color": "#FF97FF",
          "pattern": {
           "shape": ""
          }
         },
         "name": "FE_Dev, BE_Dev, DE",
         "offsetgroup": "FE_Dev, BE_Dev, DE",
         "orientation": "h",
         "showlegend": true,
         "textposition": "auto",
         "type": "bar",
         "x": [
          432000000
         ],
         "xaxis": "x",
         "y": [
          "D6"
         ],
         "yaxis": "y"
        },
        {
         "alignmentgroup": "True",
         "base": [
          "2023-06-03T12:00:00"
         ],
         "customdata": [
          [
           "System testing",
           42.5,
           47.5,
           5
          ]
         ],
         "hovertemplate": "<b>%{hovertext}</b><br><br>Role=PM, FE_Dev, BE_Dev, DE<br>Start_Date=%{base}<br>End_Date=%{x}<br>Task=%{y}<br>task=%{customdata[0]}<br>Start=%{customdata[1]}<br>End=%{customdata[2]}<br>Duration=%{customdata[3]}<extra></extra>",
         "hovertext": [
          "D7"
         ],
         "legendgroup": "PM, FE_Dev, BE_Dev, DE",
         "marker": {
          "color": "#FECB52",
          "pattern": {
           "shape": ""
          }
         },
         "name": "PM, FE_Dev, BE_Dev, DE",
         "offsetgroup": "PM, FE_Dev, BE_Dev, DE",
         "orientation": "h",
         "showlegend": true,
         "textposition": "auto",
         "type": "bar",
         "x": [
          432000000
         ],
         "xaxis": "x",
         "y": [
          "D7"
         ],
         "yaxis": "y"
        }
       ],
       "layout": {
        "barmode": "overlay",
        "height": 600,
        "legend": {
         "title": {
          "text": "Role"
         },
         "tracegroupgap": 0
        },
        "template": {
         "data": {
          "bar": [
           {
            "error_x": {
             "color": "#2a3f5f"
            },
            "error_y": {
             "color": "#2a3f5f"
            },
            "marker": {
             "line": {
              "color": "white",
              "width": 0.5
             },
             "pattern": {
              "fillmode": "overlay",
              "size": 10,
              "solidity": 0.2
             }
            },
            "type": "bar"
           }
          ],
          "barpolar": [
           {
            "marker": {
             "line": {
              "color": "white",
              "width": 0.5
             },
             "pattern": {
              "fillmode": "overlay",
              "size": 10,
              "solidity": 0.2
             }
            },
            "type": "barpolar"
           }
          ],
          "carpet": [
           {
            "aaxis": {
             "endlinecolor": "#2a3f5f",
             "gridcolor": "#C8D4E3",
             "linecolor": "#C8D4E3",
             "minorgridcolor": "#C8D4E3",
             "startlinecolor": "#2a3f5f"
            },
            "baxis": {
             "endlinecolor": "#2a3f5f",
             "gridcolor": "#C8D4E3",
             "linecolor": "#C8D4E3",
             "minorgridcolor": "#C8D4E3",
             "startlinecolor": "#2a3f5f"
            },
            "type": "carpet"
           }
          ],
          "choropleth": [
           {
            "colorbar": {
             "outlinewidth": 0,
             "ticks": ""
            },
            "type": "choropleth"
           }
          ],
          "contour": [
           {
            "colorbar": {
             "outlinewidth": 0,
             "ticks": ""
            },
            "colorscale": [
             [
              0,
              "#0d0887"
             ],
             [
              0.1111111111111111,
              "#46039f"
             ],
             [
              0.2222222222222222,
              "#7201a8"
             ],
             [
              0.3333333333333333,
              "#9c179e"
             ],
             [
              0.4444444444444444,
              "#bd3786"
             ],
             [
              0.5555555555555556,
              "#d8576b"
             ],
             [
              0.6666666666666666,
              "#ed7953"
             ],
             [
              0.7777777777777778,
              "#fb9f3a"
             ],
             [
              0.8888888888888888,
              "#fdca26"
             ],
             [
              1,
              "#f0f921"
             ]
            ],
            "type": "contour"
           }
          ],
          "contourcarpet": [
           {
            "colorbar": {
             "outlinewidth": 0,
             "ticks": ""
            },
            "type": "contourcarpet"
           }
          ],
          "heatmap": [
           {
            "colorbar": {
             "outlinewidth": 0,
             "ticks": ""
            },
            "colorscale": [
             [
              0,
              "#0d0887"
             ],
             [
              0.1111111111111111,
              "#46039f"
             ],
             [
              0.2222222222222222,
              "#7201a8"
             ],
             [
              0.3333333333333333,
              "#9c179e"
             ],
             [
              0.4444444444444444,
              "#bd3786"
             ],
             [
              0.5555555555555556,
              "#d8576b"
             ],
             [
              0.6666666666666666,
              "#ed7953"
             ],
             [
              0.7777777777777778,
              "#fb9f3a"
             ],
             [
              0.8888888888888888,
              "#fdca26"
             ],
             [
              1,
              "#f0f921"
             ]
            ],
            "type": "heatmap"
           }
          ],
          "heatmapgl": [
           {
            "colorbar": {
             "outlinewidth": 0,
             "ticks": ""
            },
            "colorscale": [
             [
              0,
              "#0d0887"
             ],
             [
              0.1111111111111111,
              "#46039f"
             ],
             [
              0.2222222222222222,
              "#7201a8"
             ],
             [
              0.3333333333333333,
              "#9c179e"
             ],
             [
              0.4444444444444444,
              "#bd3786"
             ],
             [
              0.5555555555555556,
              "#d8576b"
             ],
             [
              0.6666666666666666,
              "#ed7953"
             ],
             [
              0.7777777777777778,
              "#fb9f3a"
             ],
             [
              0.8888888888888888,
              "#fdca26"
             ],
             [
              1,
              "#f0f921"
             ]
            ],
            "type": "heatmapgl"
           }
          ],
          "histogram": [
           {
            "marker": {
             "pattern": {
              "fillmode": "overlay",
              "size": 10,
              "solidity": 0.2
             }
            },
            "type": "histogram"
           }
          ],
          "histogram2d": [
           {
            "colorbar": {
             "outlinewidth": 0,
             "ticks": ""
            },
            "colorscale": [
             [
              0,
              "#0d0887"
             ],
             [
              0.1111111111111111,
              "#46039f"
             ],
             [
              0.2222222222222222,
              "#7201a8"
             ],
             [
              0.3333333333333333,
              "#9c179e"
             ],
             [
              0.4444444444444444,
              "#bd3786"
             ],
             [
              0.5555555555555556,
              "#d8576b"
             ],
             [
              0.6666666666666666,
              "#ed7953"
             ],
             [
              0.7777777777777778,
              "#fb9f3a"
             ],
             [
              0.8888888888888888,
              "#fdca26"
             ],
             [
              1,
              "#f0f921"
             ]
            ],
            "type": "histogram2d"
           }
          ],
          "histogram2dcontour": [
           {
            "colorbar": {
             "outlinewidth": 0,
             "ticks": ""
            },
            "colorscale": [
             [
              0,
              "#0d0887"
             ],
             [
              0.1111111111111111,
              "#46039f"
             ],
             [
              0.2222222222222222,
              "#7201a8"
             ],
             [
              0.3333333333333333,
              "#9c179e"
             ],
             [
              0.4444444444444444,
              "#bd3786"
             ],
             [
              0.5555555555555556,
              "#d8576b"
             ],
             [
              0.6666666666666666,
              "#ed7953"
             ],
             [
              0.7777777777777778,
              "#fb9f3a"
             ],
             [
              0.8888888888888888,
              "#fdca26"
             ],
             [
              1,
              "#f0f921"
             ]
            ],
            "type": "histogram2dcontour"
           }
          ],
          "mesh3d": [
           {
            "colorbar": {
             "outlinewidth": 0,
             "ticks": ""
            },
            "type": "mesh3d"
           }
          ],
          "parcoords": [
           {
            "line": {
             "colorbar": {
              "outlinewidth": 0,
              "ticks": ""
             }
            },
            "type": "parcoords"
           }
          ],
          "pie": [
           {
            "automargin": true,
            "type": "pie"
           }
          ],
          "scatter": [
           {
            "fillpattern": {
             "fillmode": "overlay",
             "size": 10,
             "solidity": 0.2
            },
            "type": "scatter"
           }
          ],
          "scatter3d": [
           {
            "line": {
             "colorbar": {
              "outlinewidth": 0,
              "ticks": ""
             }
            },
            "marker": {
             "colorbar": {
              "outlinewidth": 0,
              "ticks": ""
             }
            },
            "type": "scatter3d"
           }
          ],
          "scattercarpet": [
           {
            "marker": {
             "colorbar": {
              "outlinewidth": 0,
              "ticks": ""
             }
            },
            "type": "scattercarpet"
           }
          ],
          "scattergeo": [
           {
            "marker": {
             "colorbar": {
              "outlinewidth": 0,
              "ticks": ""
             }
            },
            "type": "scattergeo"
           }
          ],
          "scattergl": [
           {
            "marker": {
             "colorbar": {
              "outlinewidth": 0,
              "ticks": ""
             }
            },
            "type": "scattergl"
           }
          ],
          "scattermapbox": [
           {
            "marker": {
             "colorbar": {
              "outlinewidth": 0,
              "ticks": ""
             }
            },
            "type": "scattermapbox"
           }
          ],
          "scatterpolar": [
           {
            "marker": {
             "colorbar": {
              "outlinewidth": 0,
              "ticks": ""
             }
            },
            "type": "scatterpolar"
           }
          ],
          "scatterpolargl": [
           {
            "marker": {
             "colorbar": {
              "outlinewidth": 0,
              "ticks": ""
             }
            },
            "type": "scatterpolargl"
           }
          ],
          "scatterternary": [
           {
            "marker": {
             "colorbar": {
              "outlinewidth": 0,
              "ticks": ""
             }
            },
            "type": "scatterternary"
           }
          ],
          "surface": [
           {
            "colorbar": {
             "outlinewidth": 0,
             "ticks": ""
            },
            "colorscale": [
             [
              0,
              "#0d0887"
             ],
             [
              0.1111111111111111,
              "#46039f"
             ],
             [
              0.2222222222222222,
              "#7201a8"
             ],
             [
              0.3333333333333333,
              "#9c179e"
             ],
             [
              0.4444444444444444,
              "#bd3786"
             ],
             [
              0.5555555555555556,
              "#d8576b"
             ],
             [
              0.6666666666666666,
              "#ed7953"
             ],
             [
              0.7777777777777778,
              "#fb9f3a"
             ],
             [
              0.8888888888888888,
              "#fdca26"
             ],
             [
              1,
              "#f0f921"
             ]
            ],
            "type": "surface"
           }
          ],
          "table": [
           {
            "cells": {
             "fill": {
              "color": "#EBF0F8"
             },
             "line": {
              "color": "white"
             }
            },
            "header": {
             "fill": {
              "color": "#C8D4E3"
             },
             "line": {
              "color": "white"
             }
            },
            "type": "table"
           }
          ]
         },
         "layout": {
          "annotationdefaults": {
           "arrowcolor": "#2a3f5f",
           "arrowhead": 0,
           "arrowwidth": 1
          },
          "autotypenumbers": "strict",
          "coloraxis": {
           "colorbar": {
            "outlinewidth": 0,
            "ticks": ""
           }
          },
          "colorscale": {
           "diverging": [
            [
             0,
             "#8e0152"
            ],
            [
             0.1,
             "#c51b7d"
            ],
            [
             0.2,
             "#de77ae"
            ],
            [
             0.3,
             "#f1b6da"
            ],
            [
             0.4,
             "#fde0ef"
            ],
            [
             0.5,
             "#f7f7f7"
            ],
            [
             0.6,
             "#e6f5d0"
            ],
            [
             0.7,
             "#b8e186"
            ],
            [
             0.8,
             "#7fbc41"
            ],
            [
             0.9,
             "#4d9221"
            ],
            [
             1,
             "#276419"
            ]
           ],
           "sequential": [
            [
             0,
             "#0d0887"
            ],
            [
             0.1111111111111111,
             "#46039f"
            ],
            [
             0.2222222222222222,
             "#7201a8"
            ],
            [
             0.3333333333333333,
             "#9c179e"
            ],
            [
             0.4444444444444444,
             "#bd3786"
            ],
            [
             0.5555555555555556,
             "#d8576b"
            ],
            [
             0.6666666666666666,
             "#ed7953"
            ],
            [
             0.7777777777777778,
             "#fb9f3a"
            ],
            [
             0.8888888888888888,
             "#fdca26"
            ],
            [
             1,
             "#f0f921"
            ]
           ],
           "sequentialminus": [
            [
             0,
             "#0d0887"
            ],
            [
             0.1111111111111111,
             "#46039f"
            ],
            [
             0.2222222222222222,
             "#7201a8"
            ],
            [
             0.3333333333333333,
             "#9c179e"
            ],
            [
             0.4444444444444444,
             "#bd3786"
            ],
            [
             0.5555555555555556,
             "#d8576b"
            ],
            [
             0.6666666666666666,
             "#ed7953"
            ],
            [
             0.7777777777777778,
             "#fb9f3a"
            ],
            [
             0.8888888888888888,
             "#fdca26"
            ],
            [
             1,
             "#f0f921"
            ]
           ]
          },
          "colorway": [
           "#636efa",
           "#EF553B",
           "#00cc96",
           "#ab63fa",
           "#FFA15A",
           "#19d3f3",
           "#FF6692",
           "#B6E880",
           "#FF97FF",
           "#FECB52"
          ],
          "font": {
           "color": "#2a3f5f"
          },
          "geo": {
           "bgcolor": "white",
           "lakecolor": "white",
           "landcolor": "white",
           "showlakes": true,
           "showland": true,
           "subunitcolor": "#C8D4E3"
          },
          "hoverlabel": {
           "align": "left"
          },
          "hovermode": "closest",
          "mapbox": {
           "style": "light"
          },
          "paper_bgcolor": "white",
          "plot_bgcolor": "white",
          "polar": {
           "angularaxis": {
            "gridcolor": "#EBF0F8",
            "linecolor": "#EBF0F8",
            "ticks": ""
           },
           "bgcolor": "white",
           "radialaxis": {
            "gridcolor": "#EBF0F8",
            "linecolor": "#EBF0F8",
            "ticks": ""
           }
          },
          "scene": {
           "xaxis": {
            "backgroundcolor": "white",
            "gridcolor": "#DFE8F3",
            "gridwidth": 2,
            "linecolor": "#EBF0F8",
            "showbackground": true,
            "ticks": "",
            "zerolinecolor": "#EBF0F8"
           },
           "yaxis": {
            "backgroundcolor": "white",
            "gridcolor": "#DFE8F3",
            "gridwidth": 2,
            "linecolor": "#EBF0F8",
            "showbackground": true,
            "ticks": "",
            "zerolinecolor": "#EBF0F8"
           },
           "zaxis": {
            "backgroundcolor": "white",
            "gridcolor": "#DFE8F3",
            "gridwidth": 2,
            "linecolor": "#EBF0F8",
            "showbackground": true,
            "ticks": "",
            "zerolinecolor": "#EBF0F8"
           }
          },
          "shapedefaults": {
           "line": {
            "color": "#2a3f5f"
           }
          },
          "ternary": {
           "aaxis": {
            "gridcolor": "#DFE8F3",
            "linecolor": "#A2B1C6",
            "ticks": ""
           },
           "baxis": {
            "gridcolor": "#DFE8F3",
            "linecolor": "#A2B1C6",
            "ticks": ""
           },
           "bgcolor": "white",
           "caxis": {
            "gridcolor": "#DFE8F3",
            "linecolor": "#A2B1C6",
            "ticks": ""
           }
          },
          "title": {
           "x": 0.05
          },
          "xaxis": {
           "automargin": true,
           "gridcolor": "#EBF0F8",
           "linecolor": "#EBF0F8",
           "ticks": "",
           "title": {
            "standoff": 15
           },
           "zerolinecolor": "#EBF0F8",
           "zerolinewidth": 2
          },
          "yaxis": {
           "automargin": true,
           "gridcolor": "#EBF0F8",
           "linecolor": "#EBF0F8",
           "ticks": "",
           "title": {
            "standoff": 15
           },
           "zerolinecolor": "#EBF0F8",
           "zerolinewidth": 2
          }
         }
        },
        "title": {
         "text": "Gannt Chart - expected timeline - Project Plan                     <br><sup>Total duration: 55.625 days</sup>"
        },
        "width": 1000,
        "xaxis": {
         "anchor": "y",
         "domain": [
          0,
          1
         ],
         "type": "date"
        },
        "yaxis": {
         "anchor": "x",
         "categoryarray": [
          "H",
          "G",
          "F",
          "E",
          "D8",
          "D7",
          "D6",
          "D5",
          "D4.5",
          "D4.4",
          "D4.3",
          "D4.2",
          "D4.1",
          "D4.0",
          "D3",
          "D2",
          "D1",
          "D",
          "C",
          "B",
          "A"
         ],
         "categoryorder": "array",
         "domain": [
          0,
          1
         ],
         "title": {
          "text": "Task"
         }
        }
       }
      }
     },
     "metadata": {},
     "output_type": "display_data"
    }
   ],
   "source": [
    "# join the df_results and tags dataframes\n",
    "# remove duplicate columns\n",
    "df_results = df_results.merge(tags, left_on='Activity', right_on='taskID', how='left')\n",
    "\n",
    "# create a Gannt chart using plotly\n",
    "import plotly.express as px\n",
    "\n",
    "# create a figure , showing arrows between the activities\n",
    "fig = px.timeline(df_results, x_start='Start_Date'\n",
    "                  , x_end='End_Date'\n",
    "                  , y='Activity'\n",
    "                  , title='Gannt Chart - expected timeline - Project Plan \\\n",
    "                    <br><sup>Total duration: '\\\n",
    "                    +f'{total_duration} days'+'</sup>'\n",
    "                  , color='Role'\n",
    "                  , labels={'Activity': 'Task'}\n",
    "                  , width=1000\n",
    "                  , height=600\n",
    "                  , template='plotly_white'\n",
    "                  , category_orders={'Activity': activities_list}\n",
    "                  , hover_name='Activity'\n",
    "                  , hover_data={'task': True, 'Start': True, 'End': True, 'Duration': True, }\n",
    "                  )\n",
    "\n",
    "# show the figure\n",
    "fig.show()\n",
    "\n",
    "# export the figure to '003. Output Files/fig_01_gannt_chart'\n",
    "output_file_path = '003. Output Files/fig_01_gannt_chart'\n",
    "\n",
    "# export the figure to html and image\n",
    "fig.write_html(output_file_path + '.html')\n",
    "#fig.write_image(output_file_path + '.png')\n"
   ]
  },
  {
   "cell_type": "code",
   "execution_count": null,
   "metadata": {},
   "outputs": [],
   "source": []
  }
 ],
 "metadata": {
  "kernelspec": {
   "display_name": "Python 3",
   "language": "python",
   "name": "python3"
  },
  "language_info": {
   "codemirror_mode": {
    "name": "ipython",
    "version": 3
   },
   "file_extension": ".py",
   "mimetype": "text/x-python",
   "name": "python",
   "nbconvert_exporter": "python",
   "pygments_lexer": "ipython3",
   "version": "3.9.7"
  }
 },
 "nbformat": 4,
 "nbformat_minor": 2
}
